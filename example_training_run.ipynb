{
 "cells": [
  {
   "cell_type": "markdown",
   "metadata": {},
   "source": [
    "\n",
    "<a href=\"https://colab.research.google.com/github/cagrikymk/JAX-ReaxFF/blob/master/example_training_run.ipynb\">Open in Google Colab</a>"
   ]
  },
  {
   "cell_type": "code",
   "execution_count": null,
   "metadata": {
    "id": "NqkyQJPFsVBH"
   },
   "outputs": [],
   "source": [
    "!pip uninstall jax\n",
    "!pip install jax==0.1.76\n",
    "!git clone https://github.com/cagrikymk/JAX-ReaxFF.git\n",
    "!python JAX-ReaxFF/driver.py --init_FF JAX-ReaxFF/Datasets/cobalt/ffield_edu \\\n",
    "                    --params JAX-ReaxFF/Datasets/cobalt/params \\\n",
    "                    --geo JAX-ReaxFF/Datasets/cobalt/geo \\\n",
    "                    --train_file JAX-ReaxFF/Datasets/cobalt/trainset.in"
   ]
  }
 ],
 "metadata": {
  "colab": {
   "name": "example_training_run.ipynb",
   "provenance": []
  },
  "kernelspec": {
   "display_name": "Python 3",
   "language": "python",
   "name": "python3"
  },
  "language_info": {
   "codemirror_mode": {
    "name": "ipython",
    "version": 3
   },
   "file_extension": ".py",
   "mimetype": "text/x-python",
   "name": "python",
   "nbconvert_exporter": "python",
   "pygments_lexer": "ipython3",
   "version": "3.8.5"
  }
 },
 "nbformat": 4,
 "nbformat_minor": 1
 "accelerator": "GPU"
}
