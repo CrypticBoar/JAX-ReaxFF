{
  "nbformat": 4,
  "nbformat_minor": 0,
  "metadata": {
    "kernelspec": {
      "display_name": "Python 3",
      "language": "python",
      "name": "python3"
    },
    "language_info": {
      "codemirror_mode": {
        "name": "ipython",
        "version": 3
      },
      "file_extension": ".py",
      "mimetype": "text/x-python",
      "name": "python",
      "nbconvert_exporter": "python",
      "pygments_lexer": "ipython3",
      "version": "3.8.5"
    },
    "colab": {
      "name": "example_training_run.ipynb",
      "provenance": []
    }
  },
  "cells": [
    {
      "cell_type": "code",
      "metadata": {
        "id": "NqkyQJPFsVBH"
      },
      "source": [
        "!pip uninstall jax\n",
        "!pip install jax==0.1.76\n",
        "!python driver.py --init_FF Datasets/cobalt/ffield_edu \\\n",
        "                    --params Datasets/cobalt/params \\\n",
        "                    --geo Datasets/cobalt/geo \\\n",
        "                    --train_file Datasets/cobalt/trainset.in"
      ],
      "execution_count": null,
      "outputs": []
    }
  ]
}
